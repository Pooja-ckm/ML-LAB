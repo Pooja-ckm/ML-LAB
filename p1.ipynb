{
  "nbformat": 4,
  "nbformat_minor": 0,
  "metadata": {
    "colab": {
      "name": "Untitled0.ipynb",
      "provenance": []
    },
    "kernelspec": {
      "name": "python3",
      "display_name": "Python 3"
    },
    "language_info": {
      "name": "python"
    }
  },
  "cells": [
    {
      "cell_type": "code",
      "metadata": {
        "id": "uxMHgdCT1XCD"
      },
      "source": [
        "import pandas as pd\n",
        "import numpy as np  "
      ],
      "execution_count": 9,
      "outputs": []
    },
    {
      "cell_type": "code",
      "metadata": {
        "colab": {
          "base_uri": "https://localhost:8080/"
        },
        "id": "zynQJqbL3Q7m",
        "outputId": "591e089c-e9b7-4782-a3c6-27ba016f4460"
      },
      "source": [
        "data = pd.read_csv('/content/play.csv')\n",
        "concepts = np.array(data)[: , :-1]\n",
        "target = np.array(data)[: ,-1]\n",
        "\n",
        "def train(tar,con):\n",
        "    for i,val in enumerate(tar):\n",
        "        if val=='yes':\n",
        "            specific = con[i].copy()\n",
        "            break\n",
        "    for i,val in enumerate(con):\n",
        "        if tar[i]=='yes':\n",
        "            for x in range(len(specific)):\n",
        "                if val[x] != specific[x]:\n",
        "                    specific[x] = '?'\n",
        "                else:\n",
        "                    pass\n",
        "        print(\"Specific[\",(i+1),\"]:\",str(specific))\n",
        "    return specific\n",
        "print(train(target,concepts))"
      ],
      "execution_count": 10,
      "outputs": [
        {
          "output_type": "stream",
          "text": [
            "Specific[ 1 ]: ['sunny' 'warm' 'normal' 'strong' 'warm' 'same']\n",
            "Specific[ 2 ]: ['sunny' 'warm' '?' 'strong' 'warm' 'same']\n",
            "Specific[ 3 ]: ['sunny' 'warm' '?' 'strong' 'warm' 'same']\n",
            "Specific[ 4 ]: ['sunny' 'warm' '?' 'strong' '?' '?']\n",
            "['sunny' 'warm' '?' 'strong' '?' '?']\n"
          ],
          "name": "stdout"
        }
      ]
    }
  ]
}