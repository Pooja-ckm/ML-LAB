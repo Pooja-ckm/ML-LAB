{
  "nbformat": 4,
  "nbformat_minor": 0,
  "metadata": {
    "colab": {
      "name": "Untitled13.ipynb",
      "provenance": [],
      "toc_visible": true
    },
    "kernelspec": {
      "name": "python3",
      "display_name": "Python 3"
    },
    "language_info": {
      "name": "python"
    }
  },
  "cells": [
    {
      "cell_type": "code",
      "metadata": {
        "id": "RdvDO08nZ8tk"
      },
      "source": [
        "import pandas as pd \n",
        "import numpy as np"
      ],
      "execution_count": 1,
      "outputs": []
    },
    {
      "cell_type": "code",
      "metadata": {
        "id": "nHZQDyB1Z92j"
      },
      "source": [
        "data = pd.read_csv('/content/play.csv') \n",
        "concept = np.array(data)[:,:-1] \n",
        "target = np.array(data)[:,-1]"
      ],
      "execution_count": 2,
      "outputs": []
    },
    {
      "cell_type": "code",
      "metadata": {
        "id": "X_WiUo2vaGGO"
      },
      "source": [
        "def train(con,tar): \n",
        "    specific = con[0].copy() \n",
        "    general=[['?' for x in range(len(specific))] for x in range(len(specific))] \n",
        "    for i,val in enumerate(con): \n",
        "        if tar[i] == 'yes': \n",
        "            for x in range(len(specific)): \n",
        "                if val[x] != specific[x]: \n",
        "                    specific[x] = '?' \n",
        "                    general[x][x] = '?' \n",
        "        else: \n",
        "            for x in range(len(specific)): \n",
        "                if val[x] != specific[x]: \n",
        "                    general[x][x] = specific[x] \n",
        "                else: \n",
        "                    general[x][x]='?' \n",
        "        print(\"Iteration[\"+ str(i+1) + \"]\") \n",
        "        print(\"Specific: \"+str(specific)) \n",
        "        print(\"General: \"+str(general)+\"\\n\\n\") \n",
        "    general =[general[i] for i,val in enumerate(general) if val != ['?' for x in range(len(specific))]] \n",
        "    return specific, general"
      ],
      "execution_count": 3,
      "outputs": []
    },
    {
      "cell_type": "code",
      "metadata": {
        "colab": {
          "base_uri": "https://localhost:8080/"
        },
        "id": "T9axBjkpaMBn",
        "outputId": "740886d4-36a5-45e2-f300-c2d7012071d4"
      },
      "source": [
        "specific,general = train(concept,target) \n",
        "print(\"--------Final hypothesis-------\") \n",
        "print(\"Specific hypothesis: \" +str(specific)) \n",
        "print(\"General hypothses: \"+ str(general))"
      ],
      "execution_count": 4,
      "outputs": [
        {
          "output_type": "stream",
          "text": [
            "Iteration[1]\n",
            "Specific: ['sunny' 'warm' 'normal' 'strong' 'warm' 'same']\n",
            "General: [['?', '?', '?', '?', '?', '?'], ['?', '?', '?', '?', '?', '?'], ['?', '?', '?', '?', '?', '?'], ['?', '?', '?', '?', '?', '?'], ['?', '?', '?', '?', '?', '?'], ['?', '?', '?', '?', '?', '?']]\n",
            "\n",
            "\n",
            "Iteration[2]\n",
            "Specific: ['sunny' 'warm' '?' 'strong' 'warm' 'same']\n",
            "General: [['?', '?', '?', '?', '?', '?'], ['?', '?', '?', '?', '?', '?'], ['?', '?', '?', '?', '?', '?'], ['?', '?', '?', '?', '?', '?'], ['?', '?', '?', '?', '?', '?'], ['?', '?', '?', '?', '?', '?']]\n",
            "\n",
            "\n",
            "Iteration[3]\n",
            "Specific: ['sunny' 'warm' '?' 'strong' 'warm' 'same']\n",
            "General: [['sunny', '?', '?', '?', '?', '?'], ['?', 'warm', '?', '?', '?', '?'], ['?', '?', '?', '?', '?', '?'], ['?', '?', '?', '?', '?', '?'], ['?', '?', '?', '?', '?', '?'], ['?', '?', '?', '?', '?', '?']]\n",
            "\n",
            "\n",
            "Iteration[4]\n",
            "Specific: ['sunny' 'warm' '?' 'strong' '?' '?']\n",
            "General: [['sunny', '?', '?', '?', '?', '?'], ['?', 'warm', '?', '?', '?', '?'], ['?', '?', '?', '?', '?', '?'], ['?', '?', '?', '?', '?', '?'], ['?', '?', '?', '?', '?', '?'], ['?', '?', '?', '?', '?', '?']]\n",
            "\n",
            "\n",
            "--------Final hypothesis-------\n",
            "Specific hypothesis: ['sunny' 'warm' '?' 'strong' '?' '?']\n",
            "General hypothses: [['sunny', '?', '?', '?', '?', '?'], ['?', 'warm', '?', '?', '?', '?']]\n"
          ],
          "name": "stdout"
        }
      ]
    }
  ]
}