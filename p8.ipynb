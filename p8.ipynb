{
  "nbformat": 4,
  "nbformat_minor": 0,
  "metadata": {
    "colab": {
      "name": "Untitled15.ipynb",
      "provenance": []
    },
    "kernelspec": {
      "name": "python3",
      "display_name": "Python 3"
    },
    "language_info": {
      "name": "python"
    }
  },
  "cells": [
    {
      "cell_type": "code",
      "metadata": {
        "id": "ctLVd1Oxcavq"
      },
      "source": [
        "import numpy as np"
      ],
      "execution_count": 1,
      "outputs": []
    },
    {
      "cell_type": "code",
      "metadata": {
        "id": "aFx-1JjMcevC"
      },
      "source": [
        "def sigmoid(x):\n",
        "    return 1/(1+np.exp(-x))"
      ],
      "execution_count": 2,
      "outputs": []
    },
    {
      "cell_type": "code",
      "metadata": {
        "id": "RQS2nFEockCb"
      },
      "source": [
        "def sigmoid_derivation(x):\n",
        "    return x*(x-1)"
      ],
      "execution_count": 3,
      "outputs": []
    },
    {
      "cell_type": "code",
      "metadata": {
        "id": "d6nTqCfYcn5O"
      },
      "source": [
        "input = np.array([[0,0,1],\n",
        "                  [1,1,1],\n",
        "                  [1,0,1],\n",
        "                  [0,1,1]])"
      ],
      "execution_count": 4,
      "outputs": []
    },
    {
      "cell_type": "code",
      "metadata": {
        "id": "pZM6ll0ucsPI"
      },
      "source": [
        "a_output = np.array([[0,1,1,0]]).T"
      ],
      "execution_count": 5,
      "outputs": []
    },
    {
      "cell_type": "code",
      "metadata": {
        "id": "3rGpYiqJcvoY"
      },
      "source": [
        "np.random.seed(1)"
      ],
      "execution_count": 6,
      "outputs": []
    },
    {
      "cell_type": "code",
      "metadata": {
        "id": "-VoBNGbrcyy7"
      },
      "source": [
        "weights = 2* np.random.random((3,1)) - 1"
      ],
      "execution_count": 7,
      "outputs": []
    },
    {
      "cell_type": "code",
      "metadata": {
        "colab": {
          "base_uri": "https://localhost:8080/"
        },
        "id": "2T55Iq6Vc1mR",
        "outputId": "e585dfaf-389f-43a2-ba0c-c7a150d5a06f"
      },
      "source": [
        "print('Initial weights are:')\n",
        "print(weights)"
      ],
      "execution_count": 8,
      "outputs": [
        {
          "output_type": "stream",
          "text": [
            "Initial weights are:\n",
            "[[-0.16595599]\n",
            " [ 0.44064899]\n",
            " [-0.99977125]]\n"
          ],
          "name": "stdout"
        }
      ]
    },
    {
      "cell_type": "code",
      "metadata": {
        "id": "BX8QMQl4c5Ak"
      },
      "source": [
        "for i in range(10000):\n",
        "    input_layer = input\n",
        "    o_output = sigmoid(np.dot(input_layer, weights))"
      ],
      "execution_count": 9,
      "outputs": []
    },
    {
      "cell_type": "code",
      "metadata": {
        "id": "3A70BiuCc7zp"
      },
      "source": [
        "loss = o_output - a_output"
      ],
      "execution_count": 10,
      "outputs": []
    },
    {
      "cell_type": "code",
      "metadata": {
        "id": "7b0OyNg4dAF3"
      },
      "source": [
        "adjustment = loss * sigmoid_derivation(o_output)"
      ],
      "execution_count": 11,
      "outputs": []
    },
    {
      "cell_type": "code",
      "metadata": {
        "id": "uNrnbTEtdCxs"
      },
      "source": [
        "weights = weights + np.dot(input_layer.T, adjustment)"
      ],
      "execution_count": 12,
      "outputs": []
    },
    {
      "cell_type": "code",
      "metadata": {
        "colab": {
          "base_uri": "https://localhost:8080/"
        },
        "id": "SbKV1-dYdFts",
        "outputId": "b6d6874c-b473-4682-f28d-31e4c285f2d3"
      },
      "source": [
        "print('new weights are:')\n",
        "print(weights)\n",
        "\n",
        "print('obtained output values are')\n",
        "print(o_output)"
      ],
      "execution_count": 13,
      "outputs": [
        {
          "output_type": "stream",
          "text": [
            "new weights are:\n",
            "[[ 0.12025406]\n",
            " [ 0.50456196]\n",
            " [-0.85063774]]\n",
            "obtained output values are\n",
            "[[0.2689864 ]\n",
            " [0.3262757 ]\n",
            " [0.23762817]\n",
            " [0.36375058]]\n"
          ],
          "name": "stdout"
        }
      ]
    }
  ]
}